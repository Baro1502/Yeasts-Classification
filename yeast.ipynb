{
 "cells": [
  {
   "attachments": {},
   "cell_type": "markdown",
   "metadata": {},
   "source": [
    "# Source:\n",
    "\n",
    "Creator and Maintainer:\n",
    "\n",
    "Kenta Nakai\n",
    "Institue of Molecular and Cellular Biology\n",
    "Osaka, University\n",
    "1-3 Yamada-oka, Suita 565 Japan\n",
    "nakai '@' imcb.osaka-u.ac.jp\n",
    "http://www.imcb.osaka-u.ac.jp/nakai/psort.html\n",
    "\n",
    "Donor:\n",
    "\n",
    "Paul Horton (paulh '@' cs.berkeley.edu)\n",
    "\n",
    "\n",
    "# Data Set Information:\n",
    "\n",
    "Predicted Attribute: Localization site of protein. ( non-numeric ).\n",
    "\n",
    "The references below describe a predecessor to this dataset and its development. They also give results (not cross-validated) for classification by a rule-based expert system with that version of the dataset.\n",
    "\n",
    "Reference: \"Expert Sytem for Predicting Protein Localization Sites in Gram-Negative Bacteria\", Kenta Nakai & Minoru Kanehisa, PROTEINS: Structure, Function, and Genetics 11:95-110, 1991.\n",
    "\n",
    "Reference: \"A Knowledge Base for Predicting Protein Localization Sites in Eukaryotic Cells\", Kenta Nakai & Minoru Kanehisa, Genomics 14:897-911, 1992.\n",
    "\n",
    "\n",
    "# Attribute Information:\n",
    "\n",
    "1. Sequence Name: Accession number for the SWISS-PROT database\n",
    "2. mcg: McGeoch's method for signal sequence recognition.\n",
    "3. gvh: von Heijne's method for signal sequence recognition.\n",
    "4. alm: Score of the ALOM membrane spanning region prediction program.\n",
    "5. mit: Score of discriminant analysis of the amino acid content of the N-terminal region (20 residues long) of mitochondrial and non-mitochondrial proteins.\n",
    "6. erl: Presence of \"HDEL\" substring (thought to act as a signal for retention in the endoplasmic reticulum lumen). Binary attribute.\n",
    "7. pox: Peroxisomal targeting signal in the C-terminus.\n",
    "8. vac: Score of discriminant analysis of the amino acid content of vacuolar and extracellular proteins.\n",
    "9. nuc: Score of discriminant analysis of nuclear localization signals of nuclear and non-nuclear proteins.\n",
    "\n",
    "\n",
    "# Relevant Papers:\n",
    "\n",
    "Paul Horton & Kenta Nakai, \"A Probablistic Classification System for Predicting the Cellular Localization Sites of Proteins\", Intelligent Systems in Molecular Biology, 109-115. St. Louis, USA 1996.\n",
    "[Web Link]\n",
    "\n",
    "The references below describe a predecessor to this dataset and its development. They also give results (not cross-validated) for classification by a rule-based expert system with that version of the dataset:\n",
    "\n",
    "Kenta Nakai & Minoru Kanehisa, \"Expert Sytem for Predicting Protein Localization Sites in Gram-Negative Bacteria\", PROTEINS: Structure, Function, and Genetics 11:95-110, 1991.\n",
    "\n",
    "Kenta Nakai & Minoru Kanehisa, \"A Knowledge Base for Predicting Protein Localization Sites in Eukaryotic Cells\", Genomics 14:897-911, 1992.\n",
    "[Web Link]\n",
    "\n",
    "\n"
   ]
  },
  {
   "cell_type": "code",
   "execution_count": 189,
   "metadata": {},
   "outputs": [],
   "source": [
    "import pandas as pd\n",
    "import numpy as np\n",
    "import matplotlib.pyplot as plt"
   ]
  },
  {
   "attachments": {},
   "cell_type": "markdown",
   "metadata": {},
   "source": [
    "# Understanding Data"
   ]
  },
  {
   "cell_type": "code",
   "execution_count": 190,
   "metadata": {},
   "outputs": [
    {
     "data": {
      "text/html": [
       "<div>\n",
       "<style scoped>\n",
       "    .dataframe tbody tr th:only-of-type {\n",
       "        vertical-align: middle;\n",
       "    }\n",
       "\n",
       "    .dataframe tbody tr th {\n",
       "        vertical-align: top;\n",
       "    }\n",
       "\n",
       "    .dataframe thead th {\n",
       "        text-align: right;\n",
       "    }\n",
       "</style>\n",
       "<table border=\"1\" class=\"dataframe\">\n",
       "  <thead>\n",
       "    <tr style=\"text-align: right;\">\n",
       "      <th></th>\n",
       "      <th>Sequence_Name</th>\n",
       "      <th>mcg</th>\n",
       "      <th>gvh</th>\n",
       "      <th>alm</th>\n",
       "      <th>mit</th>\n",
       "      <th>erl</th>\n",
       "      <th>pox</th>\n",
       "      <th>vac</th>\n",
       "      <th>nuc</th>\n",
       "      <th>class</th>\n",
       "    </tr>\n",
       "  </thead>\n",
       "  <tbody>\n",
       "    <tr>\n",
       "      <th>0</th>\n",
       "      <td>ADT1_YEAST</td>\n",
       "      <td>0.58</td>\n",
       "      <td>0.61</td>\n",
       "      <td>0.47</td>\n",
       "      <td>0.13</td>\n",
       "      <td>0.5</td>\n",
       "      <td>0.0</td>\n",
       "      <td>0.48</td>\n",
       "      <td>0.22</td>\n",
       "      <td>MIT</td>\n",
       "    </tr>\n",
       "    <tr>\n",
       "      <th>1</th>\n",
       "      <td>ADT2_YEAST</td>\n",
       "      <td>0.43</td>\n",
       "      <td>0.67</td>\n",
       "      <td>0.48</td>\n",
       "      <td>0.27</td>\n",
       "      <td>0.5</td>\n",
       "      <td>0.0</td>\n",
       "      <td>0.53</td>\n",
       "      <td>0.22</td>\n",
       "      <td>MIT</td>\n",
       "    </tr>\n",
       "    <tr>\n",
       "      <th>2</th>\n",
       "      <td>ADT3_YEAST</td>\n",
       "      <td>0.64</td>\n",
       "      <td>0.62</td>\n",
       "      <td>0.49</td>\n",
       "      <td>0.15</td>\n",
       "      <td>0.5</td>\n",
       "      <td>0.0</td>\n",
       "      <td>0.53</td>\n",
       "      <td>0.22</td>\n",
       "      <td>MIT</td>\n",
       "    </tr>\n",
       "    <tr>\n",
       "      <th>3</th>\n",
       "      <td>AAR2_YEAST</td>\n",
       "      <td>0.58</td>\n",
       "      <td>0.44</td>\n",
       "      <td>0.57</td>\n",
       "      <td>0.13</td>\n",
       "      <td>0.5</td>\n",
       "      <td>0.0</td>\n",
       "      <td>0.54</td>\n",
       "      <td>0.22</td>\n",
       "      <td>NUC</td>\n",
       "    </tr>\n",
       "    <tr>\n",
       "      <th>4</th>\n",
       "      <td>AATM_YEAST</td>\n",
       "      <td>0.42</td>\n",
       "      <td>0.44</td>\n",
       "      <td>0.48</td>\n",
       "      <td>0.54</td>\n",
       "      <td>0.5</td>\n",
       "      <td>0.0</td>\n",
       "      <td>0.48</td>\n",
       "      <td>0.22</td>\n",
       "      <td>MIT</td>\n",
       "    </tr>\n",
       "    <tr>\n",
       "      <th>5</th>\n",
       "      <td>AATC_YEAST</td>\n",
       "      <td>0.51</td>\n",
       "      <td>0.40</td>\n",
       "      <td>0.56</td>\n",
       "      <td>0.17</td>\n",
       "      <td>0.5</td>\n",
       "      <td>0.5</td>\n",
       "      <td>0.49</td>\n",
       "      <td>0.22</td>\n",
       "      <td>CYT</td>\n",
       "    </tr>\n",
       "    <tr>\n",
       "      <th>6</th>\n",
       "      <td>ABC1_YEAST</td>\n",
       "      <td>0.50</td>\n",
       "      <td>0.54</td>\n",
       "      <td>0.48</td>\n",
       "      <td>0.65</td>\n",
       "      <td>0.5</td>\n",
       "      <td>0.0</td>\n",
       "      <td>0.53</td>\n",
       "      <td>0.22</td>\n",
       "      <td>MIT</td>\n",
       "    </tr>\n",
       "    <tr>\n",
       "      <th>7</th>\n",
       "      <td>BAF1_YEAST</td>\n",
       "      <td>0.48</td>\n",
       "      <td>0.45</td>\n",
       "      <td>0.59</td>\n",
       "      <td>0.20</td>\n",
       "      <td>0.5</td>\n",
       "      <td>0.0</td>\n",
       "      <td>0.58</td>\n",
       "      <td>0.34</td>\n",
       "      <td>NUC</td>\n",
       "    </tr>\n",
       "    <tr>\n",
       "      <th>8</th>\n",
       "      <td>ABF2_YEAST</td>\n",
       "      <td>0.55</td>\n",
       "      <td>0.50</td>\n",
       "      <td>0.66</td>\n",
       "      <td>0.36</td>\n",
       "      <td>0.5</td>\n",
       "      <td>0.0</td>\n",
       "      <td>0.49</td>\n",
       "      <td>0.22</td>\n",
       "      <td>MIT</td>\n",
       "    </tr>\n",
       "    <tr>\n",
       "      <th>9</th>\n",
       "      <td>ABP1_YEAST</td>\n",
       "      <td>0.40</td>\n",
       "      <td>0.39</td>\n",
       "      <td>0.60</td>\n",
       "      <td>0.15</td>\n",
       "      <td>0.5</td>\n",
       "      <td>0.0</td>\n",
       "      <td>0.58</td>\n",
       "      <td>0.30</td>\n",
       "      <td>CYT</td>\n",
       "    </tr>\n",
       "  </tbody>\n",
       "</table>\n",
       "</div>"
      ],
      "text/plain": [
       "  Sequence_Name   mcg   gvh   alm   mit  erl  pox   vac   nuc class\n",
       "0    ADT1_YEAST  0.58  0.61  0.47  0.13  0.5  0.0  0.48  0.22   MIT\n",
       "1    ADT2_YEAST  0.43  0.67  0.48  0.27  0.5  0.0  0.53  0.22   MIT\n",
       "2    ADT3_YEAST  0.64  0.62  0.49  0.15  0.5  0.0  0.53  0.22   MIT\n",
       "3    AAR2_YEAST  0.58  0.44  0.57  0.13  0.5  0.0  0.54  0.22   NUC\n",
       "4    AATM_YEAST  0.42  0.44  0.48  0.54  0.5  0.0  0.48  0.22   MIT\n",
       "5    AATC_YEAST  0.51  0.40  0.56  0.17  0.5  0.5  0.49  0.22   CYT\n",
       "6    ABC1_YEAST  0.50  0.54  0.48  0.65  0.5  0.0  0.53  0.22   MIT\n",
       "7    BAF1_YEAST  0.48  0.45  0.59  0.20  0.5  0.0  0.58  0.34   NUC\n",
       "8    ABF2_YEAST  0.55  0.50  0.66  0.36  0.5  0.0  0.49  0.22   MIT\n",
       "9    ABP1_YEAST  0.40  0.39  0.60  0.15  0.5  0.0  0.58  0.30   CYT"
      ]
     },
     "execution_count": 190,
     "metadata": {},
     "output_type": "execute_result"
    }
   ],
   "source": [
    "df = pd.read_csv('yeast.data', delim_whitespace=True)\n",
    "df.head(10)"
   ]
  },
  {
   "cell_type": "code",
   "execution_count": 191,
   "metadata": {},
   "outputs": [
    {
     "data": {
      "text/plain": [
       "['Sequence_Name',\n",
       " 'mcg',\n",
       " 'gvh',\n",
       " 'alm',\n",
       " 'mit',\n",
       " 'erl',\n",
       " 'pox',\n",
       " 'vac',\n",
       " 'nuc',\n",
       " 'class']"
      ]
     },
     "execution_count": 191,
     "metadata": {},
     "output_type": "execute_result"
    }
   ],
   "source": [
    "names = list(df.columns)\n",
    "names"
   ]
  },
  {
   "cell_type": "code",
   "execution_count": 192,
   "metadata": {},
   "outputs": [
    {
     "data": {
      "text/html": [
       "<div>\n",
       "<style scoped>\n",
       "    .dataframe tbody tr th:only-of-type {\n",
       "        vertical-align: middle;\n",
       "    }\n",
       "\n",
       "    .dataframe tbody tr th {\n",
       "        vertical-align: top;\n",
       "    }\n",
       "\n",
       "    .dataframe thead th {\n",
       "        text-align: right;\n",
       "    }\n",
       "</style>\n",
       "<table border=\"1\" class=\"dataframe\">\n",
       "  <thead>\n",
       "    <tr style=\"text-align: right;\">\n",
       "      <th></th>\n",
       "      <th>count</th>\n",
       "      <th>mean</th>\n",
       "      <th>std</th>\n",
       "      <th>min</th>\n",
       "      <th>25%</th>\n",
       "      <th>50%</th>\n",
       "      <th>75%</th>\n",
       "      <th>max</th>\n",
       "    </tr>\n",
       "  </thead>\n",
       "  <tbody>\n",
       "    <tr>\n",
       "      <th>mcg</th>\n",
       "      <td>1484.0</td>\n",
       "      <td>0.500121</td>\n",
       "      <td>0.137299</td>\n",
       "      <td>0.11</td>\n",
       "      <td>0.41</td>\n",
       "      <td>0.49</td>\n",
       "      <td>0.58</td>\n",
       "      <td>1.00</td>\n",
       "    </tr>\n",
       "    <tr>\n",
       "      <th>gvh</th>\n",
       "      <td>1484.0</td>\n",
       "      <td>0.499933</td>\n",
       "      <td>0.123924</td>\n",
       "      <td>0.13</td>\n",
       "      <td>0.42</td>\n",
       "      <td>0.49</td>\n",
       "      <td>0.57</td>\n",
       "      <td>1.00</td>\n",
       "    </tr>\n",
       "    <tr>\n",
       "      <th>alm</th>\n",
       "      <td>1484.0</td>\n",
       "      <td>0.500034</td>\n",
       "      <td>0.086670</td>\n",
       "      <td>0.21</td>\n",
       "      <td>0.46</td>\n",
       "      <td>0.51</td>\n",
       "      <td>0.55</td>\n",
       "      <td>1.00</td>\n",
       "    </tr>\n",
       "    <tr>\n",
       "      <th>mit</th>\n",
       "      <td>1484.0</td>\n",
       "      <td>0.261186</td>\n",
       "      <td>0.137098</td>\n",
       "      <td>0.00</td>\n",
       "      <td>0.17</td>\n",
       "      <td>0.22</td>\n",
       "      <td>0.32</td>\n",
       "      <td>1.00</td>\n",
       "    </tr>\n",
       "    <tr>\n",
       "      <th>erl</th>\n",
       "      <td>1484.0</td>\n",
       "      <td>0.504717</td>\n",
       "      <td>0.048351</td>\n",
       "      <td>0.50</td>\n",
       "      <td>0.50</td>\n",
       "      <td>0.50</td>\n",
       "      <td>0.50</td>\n",
       "      <td>1.00</td>\n",
       "    </tr>\n",
       "    <tr>\n",
       "      <th>pox</th>\n",
       "      <td>1484.0</td>\n",
       "      <td>0.007500</td>\n",
       "      <td>0.075683</td>\n",
       "      <td>0.00</td>\n",
       "      <td>0.00</td>\n",
       "      <td>0.00</td>\n",
       "      <td>0.00</td>\n",
       "      <td>0.83</td>\n",
       "    </tr>\n",
       "    <tr>\n",
       "      <th>vac</th>\n",
       "      <td>1484.0</td>\n",
       "      <td>0.499885</td>\n",
       "      <td>0.057797</td>\n",
       "      <td>0.00</td>\n",
       "      <td>0.48</td>\n",
       "      <td>0.51</td>\n",
       "      <td>0.53</td>\n",
       "      <td>0.73</td>\n",
       "    </tr>\n",
       "    <tr>\n",
       "      <th>nuc</th>\n",
       "      <td>1484.0</td>\n",
       "      <td>0.276199</td>\n",
       "      <td>0.106491</td>\n",
       "      <td>0.00</td>\n",
       "      <td>0.22</td>\n",
       "      <td>0.22</td>\n",
       "      <td>0.30</td>\n",
       "      <td>1.00</td>\n",
       "    </tr>\n",
       "  </tbody>\n",
       "</table>\n",
       "</div>"
      ],
      "text/plain": [
       "      count      mean       std   min   25%   50%   75%   max\n",
       "mcg  1484.0  0.500121  0.137299  0.11  0.41  0.49  0.58  1.00\n",
       "gvh  1484.0  0.499933  0.123924  0.13  0.42  0.49  0.57  1.00\n",
       "alm  1484.0  0.500034  0.086670  0.21  0.46  0.51  0.55  1.00\n",
       "mit  1484.0  0.261186  0.137098  0.00  0.17  0.22  0.32  1.00\n",
       "erl  1484.0  0.504717  0.048351  0.50  0.50  0.50  0.50  1.00\n",
       "pox  1484.0  0.007500  0.075683  0.00  0.00  0.00  0.00  0.83\n",
       "vac  1484.0  0.499885  0.057797  0.00  0.48  0.51  0.53  0.73\n",
       "nuc  1484.0  0.276199  0.106491  0.00  0.22  0.22  0.30  1.00"
      ]
     },
     "execution_count": 192,
     "metadata": {},
     "output_type": "execute_result"
    }
   ],
   "source": [
    "df.describe().T"
   ]
  },
  {
   "cell_type": "code",
   "execution_count": 193,
   "metadata": {},
   "outputs": [
    {
     "data": {
      "text/plain": [
       "Sequence_Name    0\n",
       "mcg              0\n",
       "gvh              0\n",
       "alm              0\n",
       "mit              0\n",
       "erl              0\n",
       "pox              0\n",
       "vac              0\n",
       "nuc              0\n",
       "class            0\n",
       "dtype: int64"
      ]
     },
     "execution_count": 193,
     "metadata": {},
     "output_type": "execute_result"
    }
   ],
   "source": [
    "df.isna().sum()"
   ]
  },
  {
   "cell_type": "code",
   "execution_count": 194,
   "metadata": {},
   "outputs": [
    {
     "data": {
      "text/plain": [
       "<AxesSubplot: >"
      ]
     },
     "execution_count": 194,
     "metadata": {},
     "output_type": "execute_result"
    },
    {
     "data": {
      "image/png": "[encoded data removed]",
      "text/plain": [
       "<Figure size 640x480 with 1 Axes>"
      ]
     },
     "metadata": {},
     "output_type": "display_data"
    }
   ],
   "source": [
    "g = df[names[-1]].value_counts()\n",
    "g.plot.bar(rot=0)"
   ]
  },
  {
   "cell_type": "code",
   "execution_count": 195,
   "metadata": {},
   "outputs": [],
   "source": [
    "array = df.values\n",
    "X = array[:,1:-1] \n",
    "Y = array[:,-1]\n",
    "test_size = 0.25"
   ]
  },
  {
   "cell_type": "code",
   "execution_count": 196,
   "metadata": {},
   "outputs": [
    {
     "data": {
      "text/plain": [
       "(array([[0.58, 0.61, 0.47, ..., 0.0, 0.48, 0.22],\n",
       "        [0.43, 0.67, 0.48, ..., 0.0, 0.53, 0.22],\n",
       "        [0.64, 0.62, 0.49, ..., 0.0, 0.53, 0.22],\n",
       "        ...,\n",
       "        [0.67, 0.57, 0.36, ..., 0.0, 0.56, 0.22],\n",
       "        [0.43, 0.4, 0.6, ..., 0.0, 0.53, 0.39],\n",
       "        [0.65, 0.54, 0.54, ..., 0.0, 0.53, 0.22]], dtype=object),\n",
       " array(['MIT', 'MIT', 'MIT', ..., 'ME2', 'NUC', 'CYT'], dtype=object))"
      ]
     },
     "execution_count": 196,
     "metadata": {},
     "output_type": "execute_result"
    }
   ],
   "source": [
    "X,Y"
   ]
  },
  {
   "attachments": {},
   "cell_type": "markdown",
   "metadata": {},
   "source": [
    "# Normalize Data"
   ]
  },
  {
   "cell_type": "code",
   "execution_count": 197,
   "metadata": {},
   "outputs": [
    {
     "data": {
      "text/plain": [
       "array([0.52808989, 0.55172414, 0.32911392, 0.13      , 0.        ,\n",
       "       0.        , 0.65753425, 0.22      ])"
      ]
     },
     "execution_count": 197,
     "metadata": {},
     "output_type": "execute_result"
    }
   ],
   "source": [
    "from sklearn.preprocessing import MinMaxScaler\n",
    "scaler = MinMaxScaler()\n",
    "scaler.fit(X)\n",
    "x_scaled = scaler.transform(X)\n",
    "x_scaled[0]"
   ]
  },
  {
   "cell_type": "code",
   "execution_count": 198,
   "metadata": {},
   "outputs": [
    {
     "data": {
      "text/html": [
       "<div>\n",
       "<style scoped>\n",
       "    .dataframe tbody tr th:only-of-type {\n",
       "        vertical-align: middle;\n",
       "    }\n",
       "\n",
       "    .dataframe tbody tr th {\n",
       "        vertical-align: top;\n",
       "    }\n",
       "\n",
       "    .dataframe thead th {\n",
       "        text-align: right;\n",
       "    }\n",
       "</style>\n",
       "<table border=\"1\" class=\"dataframe\">\n",
       "  <thead>\n",
       "    <tr style=\"text-align: right;\">\n",
       "      <th></th>\n",
       "      <th>mcg</th>\n",
       "      <th>gvh</th>\n",
       "      <th>alm</th>\n",
       "      <th>mit</th>\n",
       "      <th>erl</th>\n",
       "      <th>pox</th>\n",
       "      <th>vac</th>\n",
       "      <th>nuc</th>\n",
       "    </tr>\n",
       "  </thead>\n",
       "  <tbody>\n",
       "    <tr>\n",
       "      <th>0</th>\n",
       "      <td>0.528090</td>\n",
       "      <td>0.551724</td>\n",
       "      <td>0.329114</td>\n",
       "      <td>0.13</td>\n",
       "      <td>0.0</td>\n",
       "      <td>0.0</td>\n",
       "      <td>0.657534</td>\n",
       "      <td>0.22</td>\n",
       "    </tr>\n",
       "    <tr>\n",
       "      <th>1</th>\n",
       "      <td>0.359551</td>\n",
       "      <td>0.620690</td>\n",
       "      <td>0.341772</td>\n",
       "      <td>0.27</td>\n",
       "      <td>0.0</td>\n",
       "      <td>0.0</td>\n",
       "      <td>0.726027</td>\n",
       "      <td>0.22</td>\n",
       "    </tr>\n",
       "    <tr>\n",
       "      <th>2</th>\n",
       "      <td>0.595506</td>\n",
       "      <td>0.563218</td>\n",
       "      <td>0.354430</td>\n",
       "      <td>0.15</td>\n",
       "      <td>0.0</td>\n",
       "      <td>0.0</td>\n",
       "      <td>0.726027</td>\n",
       "      <td>0.22</td>\n",
       "    </tr>\n",
       "    <tr>\n",
       "      <th>3</th>\n",
       "      <td>0.528090</td>\n",
       "      <td>0.356322</td>\n",
       "      <td>0.455696</td>\n",
       "      <td>0.13</td>\n",
       "      <td>0.0</td>\n",
       "      <td>0.0</td>\n",
       "      <td>0.739726</td>\n",
       "      <td>0.22</td>\n",
       "    </tr>\n",
       "    <tr>\n",
       "      <th>4</th>\n",
       "      <td>0.348315</td>\n",
       "      <td>0.356322</td>\n",
       "      <td>0.341772</td>\n",
       "      <td>0.54</td>\n",
       "      <td>0.0</td>\n",
       "      <td>0.0</td>\n",
       "      <td>0.657534</td>\n",
       "      <td>0.22</td>\n",
       "    </tr>\n",
       "  </tbody>\n",
       "</table>\n",
       "</div>"
      ],
      "text/plain": [
       "        mcg       gvh       alm   mit  erl  pox       vac   nuc\n",
       "0  0.528090  0.551724  0.329114  0.13  0.0  0.0  0.657534  0.22\n",
       "1  0.359551  0.620690  0.341772  0.27  0.0  0.0  0.726027  0.22\n",
       "2  0.595506  0.563218  0.354430  0.15  0.0  0.0  0.726027  0.22\n",
       "3  0.528090  0.356322  0.455696  0.13  0.0  0.0  0.739726  0.22\n",
       "4  0.348315  0.356322  0.341772  0.54  0.0  0.0  0.657534  0.22"
      ]
     },
     "execution_count": 198,
     "metadata": {},
     "output_type": "execute_result"
    }
   ],
   "source": [
    "pd.DataFrame(x_scaled, columns=names[1:-1]).head()"
   ]
  },
  {
   "attachments": {},
   "cell_type": "markdown",
   "metadata": {},
   "source": [
    "# Building Models"
   ]
  },
  {
   "cell_type": "code",
   "execution_count": 199,
   "metadata": {},
   "outputs": [],
   "source": [
    "from sklearn import model_selection\n",
    "from sklearn.linear_model import LogisticRegression\n",
    "from sklearn import metrics"
   ]
  },
  {
   "cell_type": "code",
   "execution_count": 200,
   "metadata": {},
   "outputs": [],
   "source": [
    "X_train, X_test, Y_train, Y_test = model_selection.train_test_split(x_scaled, Y, test_size=test_size, random_state=7)"
   ]
  },
  {
   "cell_type": "markdown",
   "metadata": {},
   "source": [
    "## KNN n = 5"
   ]
  },
  {
   "cell_type": "code",
   "execution_count": 201,
   "metadata": {},
   "outputs": [],
   "source": [
    "from sklearn.neighbors import KNeighborsClassifier\n",
    "KNN_5 = KNeighborsClassifier(n_neighbors=5)\n",
    "history_KNN_5 = KNN_5.fit(X_train, Y_train)"
   ]
  },
  {
   "cell_type": "code",
   "execution_count": 202,
   "metadata": {},
   "outputs": [],
   "source": [
    "Y_predict_KNN_5 = KNN_5.predict(X_test)"
   ]
  },
  {
   "cell_type": "code",
   "execution_count": 203,
   "metadata": {},
   "outputs": [
    {
     "name": "stdout",
     "output_type": "stream",
     "text": [
      "[[77  0  0  0  0  1 11 29  0  0]\n",
      " [ 0  2  0  0  0  0  0  0  0  0]\n",
      " [ 2  0  3  2  0  0  0  0  0  0]\n",
      " [ 0  0  1  9  0  0  0  0  0  0]\n",
      " [ 2  0  2  2  6  2  1  1  0  0]\n",
      " [ 7  0  0  0  0 41  1  4  0  0]\n",
      " [16  0  3  1  1  3 29  4  1  0]\n",
      " [42  0  1  0  1  5  6 46  0  0]\n",
      " [ 1  0  0  0  0  0  0  0  1  0]\n",
      " [ 2  0  0  0  0  1  0  1  0  0]]\n",
      "              precision    recall  f1-score   support\n",
      "\n",
      "         CYT       0.52      0.65      0.58       118\n",
      "         ERL       1.00      1.00      1.00         2\n",
      "         EXC       0.30      0.43      0.35         7\n",
      "         ME1       0.64      0.90      0.75        10\n",
      "         ME2       0.75      0.38      0.50        16\n",
      "         ME3       0.77      0.77      0.77        53\n",
      "         MIT       0.60      0.50      0.55        58\n",
      "         NUC       0.54      0.46      0.49       101\n",
      "         POX       0.50      0.50      0.50         2\n",
      "         VAC       0.00      0.00      0.00         4\n",
      "\n",
      "    accuracy                           0.58       371\n",
      "   macro avg       0.56      0.56      0.55       371\n",
      "weighted avg       0.58      0.58      0.57       371\n",
      "\n"
     ]
    },
    {
     "name": "stderr",
     "output_type": "stream",
     "text": [
      "c:\\Python311\\Lib\\site-packages\\sklearn\\metrics\\_classification.py:1344: UndefinedMetricWarning: Precision and F-score are ill-defined and being set to 0.0 in labels with no predicted samples. Use `zero_division` parameter to control this behavior.\n",
      "  _warn_prf(average, modifier, msg_start, len(result))\n",
      "c:\\Python311\\Lib\\site-packages\\sklearn\\metrics\\_classification.py:1344: UndefinedMetricWarning: Precision and F-score are ill-defined and being set to 0.0 in labels with no predicted samples. Use `zero_division` parameter to control this behavior.\n",
      "  _warn_prf(average, modifier, msg_start, len(result))\n",
      "c:\\Python311\\Lib\\site-packages\\sklearn\\metrics\\_classification.py:1344: UndefinedMetricWarning: Precision and F-score are ill-defined and being set to 0.0 in labels with no predicted samples. Use `zero_division` parameter to control this behavior.\n",
      "  _warn_prf(average, modifier, msg_start, len(result))\n"
     ]
    }
   ],
   "source": [
    "from sklearn.metrics import classification_report\n",
    "from sklearn.metrics import confusion_matrix\n",
    "\n",
    "print(confusion_matrix(Y_test,Y_predict_KNN_5))\n",
    "rp_knn_5 = (metrics.classification_report(Y_test, Y_predict_KNN_5))\n",
    "print(rp_knn_5)"
   ]
  },
  {
   "attachments": {},
   "cell_type": "markdown",
   "metadata": {},
   "source": [
    "## KNN n = 3"
   ]
  },
  {
   "cell_type": "code",
   "execution_count": 204,
   "metadata": {},
   "outputs": [],
   "source": [
    "from sklearn.neighbors import KNeighborsClassifier\n",
    "KNN_3 = KNeighborsClassifier(n_neighbors=3)\n",
    "history_KNN_3 = KNN_3.fit(X_train, Y_train)"
   ]
  },
  {
   "cell_type": "code",
   "execution_count": 205,
   "metadata": {},
   "outputs": [],
   "source": [
    "Y_predict_KNN_3 = KNN_3.predict(X_test)"
   ]
  },
  {
   "cell_type": "code",
   "execution_count": 206,
   "metadata": {},
   "outputs": [
    {
     "name": "stdout",
     "output_type": "stream",
     "text": [
      "[[71  0  0  0  1  2 11 33  0  0]\n",
      " [ 0  2  0  0  0  0  0  0  0  0]\n",
      " [ 1  0  3  2  0  0  1  0  0  0]\n",
      " [ 0  0  1  9  0  0  0  0  0  0]\n",
      " [ 3  0  3  1  4  1  2  2  0  0]\n",
      " [ 8  0  0  0  3 36  3  2  0  1]\n",
      " [16  0  2  1  1  3 28  6  1  0]\n",
      " [41  1  0  0  2  4  6 47  0  0]\n",
      " [ 2  0  0  0  0  0  0  0  0  0]\n",
      " [ 2  0  0  0  0  1  0  1  0  0]]\n",
      "              precision    recall  f1-score   support\n",
      "\n",
      "         CYT       0.49      0.60      0.54       118\n",
      "         ERL       0.67      1.00      0.80         2\n",
      "         EXC       0.33      0.43      0.38         7\n",
      "         ME1       0.69      0.90      0.78        10\n",
      "         ME2       0.36      0.25      0.30        16\n",
      "         ME3       0.77      0.68      0.72        53\n",
      "         MIT       0.55      0.48      0.51        58\n",
      "         NUC       0.52      0.47      0.49       101\n",
      "         POX       0.00      0.00      0.00         2\n",
      "         VAC       0.00      0.00      0.00         4\n",
      "\n",
      "    accuracy                           0.54       371\n",
      "   macro avg       0.44      0.48      0.45       371\n",
      "weighted avg       0.54      0.54      0.53       371\n",
      "\n"
     ]
    }
   ],
   "source": [
    "from sklearn.metrics import classification_report\n",
    "from sklearn.metrics import confusion_matrix\n",
    "\n",
    "print(confusion_matrix(Y_test,Y_predict_KNN_3))\n",
    "rp_knn_3 = (metrics.classification_report(Y_test, Y_predict_KNN_3))\n",
    "print(rp_knn_3)"
   ]
  },
  {
   "attachments": {},
   "cell_type": "markdown",
   "metadata": {},
   "source": [
    "## weighted KNN n = 5"
   ]
  },
  {
   "cell_type": "code",
   "execution_count": 207,
   "metadata": {},
   "outputs": [],
   "source": [
    "from sklearn.neighbors import KNeighborsClassifier\n",
    "weighted_KNN_5 = KNeighborsClassifier(n_neighbors=5, weights = 'distance')\n",
    "history_weighted_KNN_5 = weighted_KNN_5.fit(X_train, Y_train)"
   ]
  },
  {
   "cell_type": "code",
   "execution_count": 208,
   "metadata": {},
   "outputs": [],
   "source": [
    "Y_predict_weighted_KNN_5 = KNN_5.predict(X_test)"
   ]
  },
  {
   "cell_type": "code",
   "execution_count": 209,
   "metadata": {},
   "outputs": [
    {
     "name": "stdout",
     "output_type": "stream",
     "text": [
      "[[77  0  0  0  0  1 11 29  0  0]\n",
      " [ 0  2  0  0  0  0  0  0  0  0]\n",
      " [ 2  0  3  2  0  0  0  0  0  0]\n",
      " [ 0  0  1  9  0  0  0  0  0  0]\n",
      " [ 2  0  2  2  6  2  1  1  0  0]\n",
      " [ 7  0  0  0  0 41  1  4  0  0]\n",
      " [16  0  3  1  1  3 29  4  1  0]\n",
      " [42  0  1  0  1  5  6 46  0  0]\n",
      " [ 1  0  0  0  0  0  0  0  1  0]\n",
      " [ 2  0  0  0  0  1  0  1  0  0]]\n",
      "              precision    recall  f1-score   support\n",
      "\n",
      "         CYT       0.52      0.65      0.58       118\n",
      "         ERL       1.00      1.00      1.00         2\n",
      "         EXC       0.30      0.43      0.35         7\n",
      "         ME1       0.64      0.90      0.75        10\n",
      "         ME2       0.75      0.38      0.50        16\n",
      "         ME3       0.77      0.77      0.77        53\n",
      "         MIT       0.60      0.50      0.55        58\n",
      "         NUC       0.54      0.46      0.49       101\n",
      "         POX       0.50      0.50      0.50         2\n",
      "         VAC       0.00      0.00      0.00         4\n",
      "\n",
      "    accuracy                           0.58       371\n",
      "   macro avg       0.56      0.56      0.55       371\n",
      "weighted avg       0.58      0.58      0.57       371\n",
      "\n",
      "              precision    recall  f1-score   support\n",
      "\n",
      "         CYT       0.52      0.65      0.58       118\n",
      "         ERL       1.00      1.00      1.00         2\n",
      "         EXC       0.30      0.43      0.35         7\n",
      "         ME1       0.64      0.90      0.75        10\n",
      "         ME2       0.75      0.38      0.50        16\n",
      "         ME3       0.77      0.77      0.77        53\n",
      "         MIT       0.60      0.50      0.55        58\n",
      "         NUC       0.54      0.46      0.49       101\n",
      "         POX       0.50      0.50      0.50         2\n",
      "         VAC       0.00      0.00      0.00         4\n",
      "\n",
      "    accuracy                           0.58       371\n",
      "   macro avg       0.56      0.56      0.55       371\n",
      "weighted avg       0.58      0.58      0.57       371\n",
      "\n"
     ]
    },
    {
     "name": "stderr",
     "output_type": "stream",
     "text": [
      "c:\\Python311\\Lib\\site-packages\\sklearn\\metrics\\_classification.py:1344: UndefinedMetricWarning: Precision and F-score are ill-defined and being set to 0.0 in labels with no predicted samples. Use `zero_division` parameter to control this behavior.\n",
      "  _warn_prf(average, modifier, msg_start, len(result))\n",
      "c:\\Python311\\Lib\\site-packages\\sklearn\\metrics\\_classification.py:1344: UndefinedMetricWarning: Precision and F-score are ill-defined and being set to 0.0 in labels with no predicted samples. Use `zero_division` parameter to control this behavior.\n",
      "  _warn_prf(average, modifier, msg_start, len(result))\n",
      "c:\\Python311\\Lib\\site-packages\\sklearn\\metrics\\_classification.py:1344: UndefinedMetricWarning: Precision and F-score are ill-defined and being set to 0.0 in labels with no predicted samples. Use `zero_division` parameter to control this behavior.\n",
      "  _warn_prf(average, modifier, msg_start, len(result))\n",
      "c:\\Python311\\Lib\\site-packages\\sklearn\\metrics\\_classification.py:1344: UndefinedMetricWarning: Precision and F-score are ill-defined and being set to 0.0 in labels with no predicted samples. Use `zero_division` parameter to control this behavior.\n",
      "  _warn_prf(average, modifier, msg_start, len(result))\n",
      "c:\\Python311\\Lib\\site-packages\\sklearn\\metrics\\_classification.py:1344: UndefinedMetricWarning: Precision and F-score are ill-defined and being set to 0.0 in labels with no predicted samples. Use `zero_division` parameter to control this behavior.\n",
      "  _warn_prf(average, modifier, msg_start, len(result))\n",
      "c:\\Python311\\Lib\\site-packages\\sklearn\\metrics\\_classification.py:1344: UndefinedMetricWarning: Precision and F-score are ill-defined and being set to 0.0 in labels with no predicted samples. Use `zero_division` parameter to control this behavior.\n",
      "  _warn_prf(average, modifier, msg_start, len(result))\n"
     ]
    }
   ],
   "source": [
    "from sklearn.metrics import classification_report\n",
    "from sklearn.metrics import confusion_matrix\n",
    "\n",
    "print(confusion_matrix(Y_test,Y_predict_weighted_KNN_5))\n",
    "print(classification_report(Y_test,Y_predict_weighted_KNN_5))\n",
    "rp_w_knn_5 = (metrics.classification_report(Y_test, Y_predict_weighted_KNN_5))\n",
    "print(rp_w_knn_5)"
   ]
  },
  {
   "attachments": {},
   "cell_type": "markdown",
   "metadata": {},
   "source": [
    "## weighted KNN n = 3"
   ]
  },
  {
   "cell_type": "code",
   "execution_count": 210,
   "metadata": {},
   "outputs": [],
   "source": [
    "from sklearn.neighbors import KNeighborsClassifier\n",
    "weighted_KNN_3 = KNeighborsClassifier(n_neighbors=3, weights = 'distance')\n",
    "history_weighted_KNN_3 = weighted_KNN_3.fit(X_train, Y_train)"
   ]
  },
  {
   "cell_type": "code",
   "execution_count": 211,
   "metadata": {},
   "outputs": [],
   "source": [
    "Y_predict_weighted_KNN_3 = weighted_KNN_3.predict(X_test)"
   ]
  },
  {
   "cell_type": "code",
   "execution_count": 212,
   "metadata": {},
   "outputs": [
    {
     "name": "stdout",
     "output_type": "stream",
     "text": [
      "[[60  0  0  0  3  2 15 37  0  1]\n",
      " [ 0  2  0  0  0  0  0  0  0  0]\n",
      " [ 1  0  3  2  0  0  1  0  0  0]\n",
      " [ 0  0  1  9  0  0  0  0  0  0]\n",
      " [ 3  0  3  1  2  2  2  2  0  1]\n",
      " [ 7  0  0  0  2 37  4  3  0  0]\n",
      " [11  0  3  1  2  3 30  7  1  0]\n",
      " [30  0  0  0  1  5  9 55  0  1]\n",
      " [ 0  0  0  0  0  0  1  1  0  0]\n",
      " [ 2  0  0  0  0  1  0  1  0  0]]\n",
      "              precision    recall  f1-score   support\n",
      "\n",
      "         CYT       0.53      0.51      0.52       118\n",
      "         ERL       1.00      1.00      1.00         2\n",
      "         EXC       0.30      0.43      0.35         7\n",
      "         ME1       0.69      0.90      0.78        10\n",
      "         ME2       0.20      0.12      0.15        16\n",
      "         ME3       0.74      0.70      0.72        53\n",
      "         MIT       0.48      0.52      0.50        58\n",
      "         NUC       0.52      0.54      0.53       101\n",
      "         POX       0.00      0.00      0.00         2\n",
      "         VAC       0.00      0.00      0.00         4\n",
      "\n",
      "    accuracy                           0.53       371\n",
      "   macro avg       0.45      0.47      0.46       371\n",
      "weighted avg       0.53      0.53      0.53       371\n",
      "\n"
     ]
    }
   ],
   "source": [
    "from sklearn.metrics import classification_report\n",
    "from sklearn.metrics import confusion_matrix\n",
    "\n",
    "print(confusion_matrix(Y_test,Y_predict_weighted_KNN_3))\n",
    "rp_w_knn_3 = (metrics.classification_report(Y_test, Y_predict_weighted_KNN_3))\n",
    "print(rp_w_knn_3)"
   ]
  },
  {
   "attachments": {},
   "cell_type": "markdown",
   "metadata": {},
   "source": [
    "# Gaussian NB"
   ]
  },
  {
   "cell_type": "code",
   "execution_count": 213,
   "metadata": {},
   "outputs": [
    {
     "name": "stdout",
     "output_type": "stream",
     "text": [
      "GaussianNB()\n"
     ]
    }
   ],
   "source": [
    "from sklearn.naive_bayes import GaussianNB\n",
    "\n",
    "model = GaussianNB()\n",
    "model.fit(X_train, Y_train)\n",
    "print(model)"
   ]
  },
  {
   "cell_type": "code",
   "execution_count": 214,
   "metadata": {},
   "outputs": [
    {
     "name": "stdout",
     "output_type": "stream",
     "text": [
      "[[  0   0   6   0   1   0   2   8   0 101]\n",
      " [  0   0   0   0   2   0   0   0   0   0]\n",
      " [  0   0   5   1   0   0   0   0   0   1]\n",
      " [  0   0   4   6   0   0   0   0   0   0]\n",
      " [  0   0   3   5   0   0   0   0   0   8]\n",
      " [  0   0   0   0   0   0   0   2   0  51]\n",
      " [  0   0   9   2   0   0   9   1   1  36]\n",
      " [  0   1   3   0   1   0   0  17   0  79]\n",
      " [  0   0   0   0   0   0   0   0   1   1]\n",
      " [  0   0   0   0   0   0   0   0   0   4]]\n",
      "              precision    recall  f1-score   support\n",
      "\n",
      "         CYT       0.00      0.00      0.00       118\n",
      "         ERL       0.00      0.00      0.00         2\n",
      "         EXC       0.17      0.71      0.27         7\n",
      "         ME1       0.43      0.60      0.50        10\n",
      "         ME2       0.00      0.00      0.00        16\n",
      "         ME3       0.00      0.00      0.00        53\n",
      "         MIT       0.82      0.16      0.26        58\n",
      "         NUC       0.61      0.17      0.26       101\n",
      "         POX       0.50      0.50      0.50         2\n",
      "         VAC       0.01      1.00      0.03         4\n",
      "\n",
      "    accuracy                           0.11       371\n",
      "   macro avg       0.25      0.31      0.18       371\n",
      "weighted avg       0.31      0.11      0.13       371\n",
      "\n"
     ]
    },
    {
     "name": "stderr",
     "output_type": "stream",
     "text": [
      "c:\\Python311\\Lib\\site-packages\\sklearn\\metrics\\_classification.py:1344: UndefinedMetricWarning: Precision and F-score are ill-defined and being set to 0.0 in labels with no predicted samples. Use `zero_division` parameter to control this behavior.\n",
      "  _warn_prf(average, modifier, msg_start, len(result))\n",
      "c:\\Python311\\Lib\\site-packages\\sklearn\\metrics\\_classification.py:1344: UndefinedMetricWarning: Precision and F-score are ill-defined and being set to 0.0 in labels with no predicted samples. Use `zero_division` parameter to control this behavior.\n",
      "  _warn_prf(average, modifier, msg_start, len(result))\n",
      "c:\\Python311\\Lib\\site-packages\\sklearn\\metrics\\_classification.py:1344: UndefinedMetricWarning: Precision and F-score are ill-defined and being set to 0.0 in labels with no predicted samples. Use `zero_division` parameter to control this behavior.\n",
      "  _warn_prf(average, modifier, msg_start, len(result))\n"
     ]
    }
   ],
   "source": [
    "Y_predict_Gau_NB = model.predict(X_test)\n",
    "\n",
    "print(metrics.confusion_matrix(Y_test, Y_predict_Gau_NB))\n",
    "rp_gau_NB = (metrics.classification_report(Y_test, Y_predict_Gau_NB))\n",
    "print(rp_gau_NB)"
   ]
  },
  {
   "attachments": {},
   "cell_type": "markdown",
   "metadata": {},
   "source": [
    "# Multinomial NB"
   ]
  },
  {
   "cell_type": "code",
   "execution_count": 215,
   "metadata": {},
   "outputs": [
    {
     "name": "stdout",
     "output_type": "stream",
     "text": [
      "MultinomialNB()\n"
     ]
    }
   ],
   "source": [
    "from sklearn.naive_bayes import MultinomialNB\n",
    "\n",
    "model = MultinomialNB()\n",
    "model.fit(X_train, Y_train)\n",
    "print(model)"
   ]
  },
  {
   "cell_type": "code",
   "execution_count": 216,
   "metadata": {},
   "outputs": [
    {
     "name": "stdout",
     "output_type": "stream",
     "text": [
      "[[112   0   0   0   0   0   0   6   0   0]\n",
      " [  2   0   0   0   0   0   0   0   0   0]\n",
      " [  7   0   0   0   0   0   0   0   0   0]\n",
      " [ 10   0   0   0   0   0   0   0   0   0]\n",
      " [ 16   0   0   0   0   0   0   0   0   0]\n",
      " [ 50   0   0   0   0   0   0   3   0   0]\n",
      " [ 56   0   0   0   0   0   0   1   1   0]\n",
      " [ 86   0   0   0   0   0   0  15   0   0]\n",
      " [  1   0   0   0   0   0   1   0   0   0]\n",
      " [  4   0   0   0   0   0   0   0   0   0]]\n",
      "              precision    recall  f1-score   support\n",
      "\n",
      "         CYT       0.33      0.95      0.48       118\n",
      "         ERL       0.00      0.00      0.00         2\n",
      "         EXC       0.00      0.00      0.00         7\n",
      "         ME1       0.00      0.00      0.00        10\n",
      "         ME2       0.00      0.00      0.00        16\n",
      "         ME3       0.00      0.00      0.00        53\n",
      "         MIT       0.00      0.00      0.00        58\n",
      "         NUC       0.60      0.15      0.24       101\n",
      "         POX       0.00      0.00      0.00         2\n",
      "         VAC       0.00      0.00      0.00         4\n",
      "\n",
      "    accuracy                           0.34       371\n",
      "   macro avg       0.09      0.11      0.07       371\n",
      "weighted avg       0.27      0.34      0.22       371\n",
      "\n"
     ]
    },
    {
     "name": "stderr",
     "output_type": "stream",
     "text": [
      "c:\\Python311\\Lib\\site-packages\\sklearn\\metrics\\_classification.py:1344: UndefinedMetricWarning: Precision and F-score are ill-defined and being set to 0.0 in labels with no predicted samples. Use `zero_division` parameter to control this behavior.\n",
      "  _warn_prf(average, modifier, msg_start, len(result))\n",
      "c:\\Python311\\Lib\\site-packages\\sklearn\\metrics\\_classification.py:1344: UndefinedMetricWarning: Precision and F-score are ill-defined and being set to 0.0 in labels with no predicted samples. Use `zero_division` parameter to control this behavior.\n",
      "  _warn_prf(average, modifier, msg_start, len(result))\n",
      "c:\\Python311\\Lib\\site-packages\\sklearn\\metrics\\_classification.py:1344: UndefinedMetricWarning: Precision and F-score are ill-defined and being set to 0.0 in labels with no predicted samples. Use `zero_division` parameter to control this behavior.\n",
      "  _warn_prf(average, modifier, msg_start, len(result))\n"
     ]
    }
   ],
   "source": [
    "Y_predict_Multi_NB = model.predict(X_test)\n",
    "\n",
    "print(metrics.confusion_matrix(Y_test, Y_predict_Multi_NB))\n",
    "rp_multi_NB = (metrics.classification_report(Y_test, Y_predict_Multi_NB))\n",
    "print(rp_multi_NB)"
   ]
  },
  {
   "attachments": {},
   "cell_type": "markdown",
   "metadata": {},
   "source": [
    "# Plotting and Comparing"
   ]
  },
  {
   "cell_type": "code",
   "execution_count": 217,
   "metadata": {},
   "outputs": [
    {
     "ename": "TypeError",
     "evalue": "string indices must be integers, not 'str'",
     "output_type": "error",
     "traceback": [
      "\u001b[1;31m---------------------------------------------------------------------------\u001b[0m",
      "\u001b[1;31mTypeError\u001b[0m                                 Traceback (most recent call last)",
      "Cell \u001b[1;32mIn[217], line 1\u001b[0m\n\u001b[1;32m----> 1\u001b[0m plt\u001b[39m.\u001b[39mplot(rp_gau_NB[\u001b[39m'\u001b[39;49m\u001b[39maccuracy\u001b[39;49m\u001b[39m'\u001b[39;49m])\n\u001b[0;32m      2\u001b[0m \u001b[39m# rp_gau_NB\u001b[39;00m\n",
      "\u001b[1;31mTypeError\u001b[0m: string indices must be integers, not 'str'"
     ]
    }
   ],
   "source": [
    "# plt.plot(rp_gau_NB['accuracy'])\n",
    "# rp_gau_NB"
   ]
  },
  {
   "cell_type": "code",
   "execution_count": null,
   "metadata": {},
   "outputs": [],
   "source": []
  }
 ],
 "metadata": {
  "kernelspec": {
   "display_name": "Python 3",
   "language": "python",
   "name": "python3"
  },
  "language_info": {
   "codemirror_mode": {
    "name": "ipython",
    "version": 3
   },
   "file_extension": ".py",
   "mimetype": "text/x-python",
   "name": "python",
   "nbconvert_exporter": "python",
   "pygments_lexer": "ipython3",
   "version": "3.11.0"
  },
  "orig_nbformat": 4,
  "vscode": {
   "interpreter": {
    "hash": "c261aea317cc0286b3b3261fbba9abdec21eaa57589985bb7a274bf54d6cc0a7"
   }
  }
 },
 "nbformat": 4,
 "nbformat_minor": 2
}
